{
 "cells": [
  {
   "cell_type": "markdown",
   "metadata": {},
   "source": [
    "# Business Understanding"
   ]
  },
  {
   "cell_type": "markdown",
   "metadata": {},
   "source": [
    "Airbnb is a worldwide platform that connects travelers and properties owners. Airbnb is a third party that facilite the communication between the interesented. The property owner accommodate his home/aparment (or even cave) and set a night renting price that the travelers have to pay if they want to stay in. It is important to highlight the fact that the price is not set by the Airbnb platform, the price is determine by the properties owner, Airbnb just charge a commission upon the price."
   ]
  },
  {
   "cell_type": "markdown",
   "metadata": {},
   "source": [
    "### Question 1: Looking for a property, ¿which variables should you look for?"
   ]
  },
  {
   "cell_type": "markdown",
   "metadata": {},
   "source": [
    "### Question 2: Given the characteristics of the property, ¿how high can the price be set?"
   ]
  },
  {
   "cell_type": "markdown",
   "metadata": {},
   "source": [
    "### Question 3: ¿Which customer reviews seems to affect the price?"
   ]
  },
  {
   "cell_type": "code",
   "execution_count": 1,
   "metadata": {},
   "outputs": [],
   "source": [
    "# Packages\n",
    "\n",
    "# Data manipulation\n",
    "\n",
    "import numpy as np\n",
    "import pandas as pd\n",
    "from datetime import datetime\n",
    "import regex as re\n",
    "\n",
    "# Visualization\n",
    "\n",
    "import matplotlib.pyplot as plt\n",
    "import seaborn as sns\n",
    "import folium\n",
    "from folium.plugins import HeatMap\n",
    "import missingno as msno\n",
    "from IPython.display import Image\n",
    "\n",
    "\n",
    "# Other configurations\n",
    "import warnings\n",
    "warnings.filterwarnings(\"ignore\")\n",
    "pd.set_option('display.max_columns', 500)\n",
    "%matplotlib inline"
   ]
  },
  {
   "cell_type": "markdown",
   "metadata": {},
   "source": [
    "# Data understanding"
   ]
  },
  {
   "cell_type": "code",
   "execution_count": null,
   "metadata": {},
   "outputs": [],
   "source": [
    "# Data\n",
    "\n",
    "listing = pd.read_csv('listings.csv')\n",
    "listing.shape"
   ]
  },
  {
   "cell_type": "markdown",
   "metadata": {},
   "source": [
    "The dataset is not an extensive one, it has 3.585 rows. Although it's abundant in information, it has 95 columns. Next, a brief overview of how the dataset looks like."
   ]
  },
  {
   "cell_type": "code",
   "execution_count": null,
   "metadata": {
    "scrolled": true
   },
   "outputs": [],
   "source": [
    "listing.head(2)"
   ]
  },
  {
   "cell_type": "code",
   "execution_count": null,
   "metadata": {},
   "outputs": [],
   "source": [
    "df = listing[['host_since','host_response_time','host_response_rate','host_is_superhost','host_neighbourhood'\n",
    "            ,'host_listings_count','host_total_listings_count','neighbourhood','neighbourhood_cleansed','neighbourhood_group_cleansed'\n",
    "            ,'property_type','room_type','accommodates','bathrooms','bedrooms','beds','bed_type','amenities','square_feet' \n",
    "            , 'price','weekly_price','monthly_price','security_deposit','cleaning_fee','guests_included','minimum_nights','availability_30'\n",
    "            , 'availability_60','availability_90','availability_365','number_of_reviews','first_review','last_review'\n",
    "            , 'review_scores_rating','review_scores_accuracy','review_scores_cleanliness','review_scores_checkin'\n",
    "            , 'review_scores_communication','review_scores_location','review_scores_value','reviews_per_month'\n",
    "            , 'latitude','longitude']]"
   ]
  },
  {
   "cell_type": "markdown",
   "metadata": {},
   "source": [
    "df dataset is a subset of listing. The idea behind creating table df is to partition and select only the variables for the analysis. Out of the 93 columns, only 43 were selected. This selection was based on the appropriate way to answer the following question **¿What derives the price of an Airbnb property?**"
   ]
  },
  {
   "cell_type": "markdown",
   "metadata": {},
   "source": [
    "Below is a list with the features after the selection process:\n",
    "\n",
    "- **price**: The target column\n",
    "- **host_since**: Date when the host started to be part of Airbnb\n",
    "- **host_is_superhost**: Indicates if the host is superhost\n",
    "- **neighbourhood_cleansed**: Neighbourhood of the property\n",
    "- **property_type**: Property type \n",
    "- **room_type**: Room type\n",
    "- **accommodates**: Number of people that coulb stay in the property\n",
    "- **bathrooms**: Number of bathrooms\n",
    "- **bedrooms**: Number of bedrooms\n",
    "- **beds**: Number of beds\n",
    "- **amenities**: property's features\n",
    "- **square_feet**: Square feet of the property\n",
    "- **minimum_nights**: Minimum nights staying\n",
    "- **number_of_reviews**: Number of reviews\n",
    "- **review_scores_rating**: Customer scores\n",
    "- **review_scores_accuracy**: Customer scores\n",
    "- **review_scores_cleanliness**: Customer scores\n",
    "- **review_scores_checkin**: Customer scores\n",
    "- **review_scores_communication**: Customer scores\n",
    "- **review_scores_location**: Customer scores\n",
    "- **review_scores_value**: Customer scores\n",
    "- **reviews_per_month**: Customer scores\n",
    "- **latitude**: Latitute where the property is located\n",
    "- **longitude**: Longitude where the property is located"
   ]
  },
  {
   "cell_type": "markdown",
   "metadata": {},
   "source": [
    "First order of business, null-values"
   ]
  },
  {
   "cell_type": "code",
   "execution_count": null,
   "metadata": {},
   "outputs": [],
   "source": [
    "msno.matrix(df);"
   ]
  },
  {
   "cell_type": "markdown",
   "metadata": {},
   "source": [
    "The previous graph is one way to visualize the missing data in our dataframe. The concept is simple, the rectangle is all the dataframe and the blank spaces are missing values. It's clear that there are some features that will not harmed the analysis if removed."
   ]
  },
  {
   "cell_type": "code",
   "execution_count": null,
   "metadata": {},
   "outputs": [],
   "source": [
    "round(df[['neighbourhood_group_cleansed','square_feet','weekly_price','monthly_price','security_deposit','cleaning_fee']]\\\n",
    " .isnull().sum(axis = 0)*100 / df.shape[0])"
   ]
  },
  {
   "cell_type": "markdown",
   "metadata": {},
   "source": [
    "The above query determine the procentaje of missing values in the selected columns. *Neighbourhood_group_cleansed* and *square_feet* will be dropped due to the lack of information. *Weekly_price*, *monthly_price*, *security_deposit*  and *cleaning_fee* will be removed as well as a result of the correlation with the target variable."
   ]
  },
  {
   "cell_type": "code",
   "execution_count": null,
   "metadata": {},
   "outputs": [],
   "source": [
    "df.drop(columns = ['neighbourhood','neighbourhood_group_cleansed','square_feet','weekly_price'\n",
    "                   ,'monthly_price','security_deposit','cleaning_fee']\n",
    "       , axis = 1, inplace = True)"
   ]
  },
  {
   "cell_type": "markdown",
   "metadata": {},
   "source": [
    "The resulting dataframe is the following:"
   ]
  },
  {
   "cell_type": "code",
   "execution_count": null,
   "metadata": {
    "scrolled": false
   },
   "outputs": [],
   "source": [
    "msno.matrix(df);"
   ]
  },
  {
   "cell_type": "markdown",
   "metadata": {},
   "source": [
    "Worth noting, most of the times if one review is missing, all the reviews are missing. We'll inspect these features later on this project."
   ]
  },
  {
   "cell_type": "markdown",
   "metadata": {},
   "source": [
    "Before doing any analysis, we need to fix the format of the target value *price*. It was given to us containing dollar sign and commas in some cases."
   ]
  },
  {
   "cell_type": "code",
   "execution_count": null,
   "metadata": {},
   "outputs": [],
   "source": [
    "df.price"
   ]
  },
  {
   "cell_type": "code",
   "execution_count": null,
   "metadata": {},
   "outputs": [],
   "source": [
    "df.loc[:, df.columns.isin(['price'])] = list(df.price.apply(lambda x: int(x[1:-3].replace(',',''))))"
   ]
  },
  {
   "cell_type": "markdown",
   "metadata": {},
   "source": [
    "## Marginal distributions"
   ]
  },
  {
   "cell_type": "markdown",
   "metadata": {},
   "source": [
    "With the price variable in the correct format, lets dive-in in the dataset!"
   ]
  },
  {
   "cell_type": "markdown",
   "metadata": {},
   "source": [
    "### Target variable - Price"
   ]
  },
  {
   "cell_type": "code",
   "execution_count": null,
   "metadata": {},
   "outputs": [],
   "source": [
    "fig, ax = plt.subplots(figsize=(14,8));\n",
    "\n",
    "sns.distplot(df.price)\n",
    "plt.axvline(x=np.percentile(df.price,50), color = '#820707', label = '50th percentile')\n",
    "plt.axvline(x=np.percentile(df.price,95), color = 'r', label = '95th percentile')\n",
    "ax.set_xticks((0, np.percentile(df.price,50),np.percentile(df.price,95),1000,2000,3000,4000 ))\n",
    "\n",
    "plt.title('Distribution of prices')\n",
    "plt.xlabel('Prices')\n",
    "plt.ylabel('Marginal distribution')\n",
    "plt.legend();"
   ]
  },
  {
   "cell_type": "markdown",
   "metadata": {},
   "source": [
    "Undoubtedly, the distribution of the target variable is skewed to the right. Additionally, two vertical lines were added to the graph, representing the median and the 95th percentile of the distribution. This last part was intended to emphasize how skewed the distribution is."
   ]
  },
  {
   "cell_type": "code",
   "execution_count": null,
   "metadata": {},
   "outputs": [],
   "source": [
    "fig, ax = plt.subplots(figsize=(14,8));\n",
    "\n",
    "sns.distplot(df.query('price < 500')['price'])\n",
    "plt.axvline(x=np.percentile(df.price,50), color = '#820707', label = '50th percentile of all prices')\n",
    "plt.axvline(x=np.percentile(df.price,95), color = 'r', label = '95th percentile of all prices')\n",
    "# plt.text(x = np.percentile(df.price,95), y = 0, s = str(round(np.percentile(df.price,95))), ha='center' )\n",
    "ax.set_xticks((0, 100, np.percentile(df.price,50),200, 300, np.percentile(df.price,95),400, 500 ))\n",
    "\n",
    "plt.title('Distribution of prices lower than $500')\n",
    "plt.xlabel('Prices')\n",
    "plt.ylabel('Marginal distribution')\n",
    "plt.legend();\n",
    "\n",
    "print('Prices over $500 are in the top {}% of the distribution'.format(100 - (round(df.query('price < 500')['price'].count() *100 / df.shape[0],1))))"
   ]
  },
  {
   "cell_type": "markdown",
   "metadata": {},
   "source": [
    "This is a close up of the prices lower than $500$. Similarly to the overall distribution, this subset of the distribution carry the same skewed problem. Although it isn't that marked.\n",
    "Prices over $500$ are in the top 2.5% of the distribution"
   ]
  },
  {
   "cell_type": "code",
   "execution_count": null,
   "metadata": {},
   "outputs": [],
   "source": [
    "fig, ax = plt.subplots(figsize=(14,8));\n",
    "\n",
    "sns.distplot(np.log(df.price))\n",
    "plt.axvline(x=np.percentile(np.log(df.price),50), color = '#820707', label = '50th percentile of Log(price)')\n",
    "plt.axvline(x=np.percentile(np.log(df.price),95), color = 'r', label = '95th percentile of Log(price)')\n",
    "\n",
    "plt.title('Log-Distribution of prices')\n",
    "plt.xlabel('Log-Prices')\n",
    "plt.ylabel('Marginal distribution')\n",
    "plt.legend();"
   ]
  },
  {
   "cell_type": "markdown",
   "metadata": {},
   "source": [
    "The righ skewed was solved using a log transformation to the variable. "
   ]
  },
  {
   "cell_type": "code",
   "execution_count": null,
   "metadata": {},
   "outputs": [],
   "source": [
    "df.price = np.log(df.price)"
   ]
  },
  {
   "cell_type": "markdown",
   "metadata": {},
   "source": [
    "###  Independent variables"
   ]
  },
  {
   "cell_type": "code",
   "execution_count": null,
   "metadata": {},
   "outputs": [],
   "source": [
    "## Need to plot the variable\n",
    "df.property_type = df.property_type.astype(str)\n",
    "\n",
    "plt.figure(figsize = (16,10))\n",
    "var_plot = ['accommodates','bedrooms','bathrooms','minimum_nights','room_type', 'property_type']\n",
    "for i, var in enumerate(var_plot):\n",
    "    plt.subplot(3,2,i+1)\n",
    "    sns.ecdfplot(df[var])\n",
    "    plt.title('Accumulate distribution of ' + var)  \n",
    "    plt.xlabel('')\n",
    "    plt.subplots_adjust(hspace = 0.5)\n",
    "    if var == 'property_type':\n",
    "        plt.setp(plt.subplot(3,2,i+1).xaxis.get_majorticklabels(), rotation=45)\n",
    "        "
   ]
  },
  {
   "cell_type": "markdown",
   "metadata": {},
   "source": [
    "Key annotations\n",
    "\n",
    "- 80% of the properties in this dataset can accommodate up to 4 people, therefore it can be grouped \n",
    "- Less than 20% of the Airbnb have more than 2 bedrooms\n",
    "- A vast majority of the places have only one bathroom\n",
    "- Minimum nights variable needs to be checked before adding it into a model. It's not clear why the minimum reservation nights for a Airbnb can be  250 nights\n",
    "- There are mainly two options of renting a room type, the entire aparment/house or a private room\n",
    "- Up to 85% of the properties are either a house or an aparment"
   ]
  },
  {
   "cell_type": "markdown",
   "metadata": {},
   "source": [
    "The amenities column has the following format:"
   ]
  },
  {
   "cell_type": "code",
   "execution_count": null,
   "metadata": {},
   "outputs": [],
   "source": [
    "df.amenities"
   ]
  },
  {
   "cell_type": "markdown",
   "metadata": {},
   "source": [
    "It is necessary to clean this information to get any valuable insight"
   ]
  },
  {
   "cell_type": "code",
   "execution_count": null,
   "metadata": {},
   "outputs": [],
   "source": [
    "df.loc[:,df.columns == 'amenities'] = df['amenities'].apply(lambda x: x.replace('{','').replace('}','').replace('\"',''))"
   ]
  },
  {
   "cell_type": "code",
   "execution_count": null,
   "metadata": {},
   "outputs": [],
   "source": [
    "amenities = pd.Series(np.concatenate(df.amenities.apply(lambda x: x.split(','))))\n",
    "amenities = amenities.iloc[list(~amenities.isin(['\"translation missing: en.hosting_amenity_49\"'\n",
    "                                                 ,'\"translation missing: en.hosting_amenity_50\"}']) == True)]"
   ]
  },
  {
   "cell_type": "code",
   "execution_count": null,
   "metadata": {},
   "outputs": [],
   "source": [
    "fig, ax = plt.subplots(figsize=(14,8))\n",
    "amenities.value_counts()[:15].plot.barh()\n",
    "plt.gca().invert_yaxis()\n",
    "plt.xlabel('Count of records')\n",
    "plt.title('Amenities');"
   ]
  },
  {
   "cell_type": "markdown",
   "metadata": {},
   "source": [
    "This variable is complicated to study due to all the combinations of amenities. For example, an aparment may have wireless internet, heating, kitchen, and shampoo, and a house wireless internet, heating, kitchen and carbon monoxide detector. In theory, both properties have a unique set of amenities, and it does, but if we're looking to implement any ML algorithm, it isn't appropiate to concatenate the combination of amenities and add it to the model.\n",
    "One way of dealing with this variable is to create a dummy variable for each amenity, and then for each property add +50 columns indicating if the property has it or not. "
   ]
  },
  {
   "cell_type": "code",
   "execution_count": null,
   "metadata": {},
   "outputs": [],
   "source": [
    "sort_order = df.neighbourhood_cleansed.value_counts().sort_values(ascending = True).index\n",
    "\n",
    "fig, ax = plt.subplots(figsize = (16,8))\n",
    "sns.countplot(df.neighbourhood_cleansed, order = sort_order, palette = 'Blues')\n",
    "ax.set_xticklabels(ax.get_xticklabels(), rotation=45, ha='right')\n",
    "plt.title('Count of record for neighbourhood')\n",
    "plt.ylabel('Count of records')\n",
    "plt.xlabel('');"
   ]
  },
  {
   "cell_type": "markdown",
   "metadata": {},
   "source": [
    "A question araise, this distribution means that there are non-pleasurable tourists zones? "
   ]
  },
  {
   "cell_type": "markdown",
   "metadata": {},
   "source": [
    "## Multivariate distribution and interactions"
   ]
  },
  {
   "cell_type": "markdown",
   "metadata": {},
   "source": [
    "### Host_since"
   ]
  },
  {
   "cell_type": "markdown",
   "metadata": {},
   "source": [
    "The *host_since* column is a date, an a date doesn't tell us anything, therefore a transformation is needed. \n",
    "A significant variable could be the months since the person became a host, so lets create that!\n",
    "The initial format for the variable is the following:"
   ]
  },
  {
   "cell_type": "code",
   "execution_count": null,
   "metadata": {},
   "outputs": [],
   "source": [
    "df.host_since"
   ]
  },
  {
   "cell_type": "code",
   "execution_count": null,
   "metadata": {},
   "outputs": [],
   "source": [
    "meses_host = df.host_since.apply(lambda x: datetime.strptime(x,'%Y-%M-%d'))"
   ]
  },
  {
   "cell_type": "code",
   "execution_count": null,
   "metadata": {},
   "outputs": [],
   "source": [
    "def diff_month(d1, d2):\n",
    "    \"\"\"\"\n",
    "    This function calculate the difference in months between two dates.\n",
    "    \n",
    "    Args: \n",
    "        d1: First date\n",
    "        d2: Second date\n",
    "    \"\"\"\n",
    "    return (d1.year - d2.year) * 12 + d1.month - d2.month\n",
    "\n",
    "df.host_since = meses_host.apply(lambda x: diff_month(datetime.strptime('2016-01-31','%Y-%M-%d'),x))   "
   ]
  },
  {
   "cell_type": "markdown",
   "metadata": {},
   "source": [
    "The final format is numeric"
   ]
  },
  {
   "cell_type": "code",
   "execution_count": null,
   "metadata": {},
   "outputs": [],
   "source": [
    "df.host_since"
   ]
  },
  {
   "cell_type": "markdown",
   "metadata": {},
   "source": [
    "It needs to be clarify that the date when the dataset was created is missing, I decided to get the max date of the column an assign that as the date to compare. This is the reason for the 2016-01-31 date. "
   ]
  },
  {
   "cell_type": "markdown",
   "metadata": {},
   "source": [
    "## Narrowing-down tails"
   ]
  },
  {
   "cell_type": "markdown",
   "metadata": {},
   "source": [
    "### Number of reviews"
   ]
  },
  {
   "cell_type": "code",
   "execution_count": null,
   "metadata": {},
   "outputs": [],
   "source": [
    "fig, ax = plt.subplots(figsize = (16,10))\n",
    "sns.boxplot(y = 'price', x = 'number_of_reviews' , data = df)\n",
    "xticks = []\n",
    "for i in range(0,190, 10):\n",
    "     xticks.append(i)\n",
    "plt.setp(ax, xticks=xticks, xticklabels = xticks)\n",
    "plt.title('Log-Price vs Number of reviews')\n",
    "plt.axvline(x=np.percentile(df.number_of_reviews,50), color = '#FFCECE', label = '50th percentile')\n",
    "plt.axvline(x=np.percentile(df.number_of_reviews,75), color = '#FF9191', label = '75th percentile')\n",
    "plt.axvline(x=np.percentile(df.number_of_reviews,85), color = '#FF3030', label = '85th percentile')\n",
    "plt.legend();\n"
   ]
  },
  {
   "cell_type": "markdown",
   "metadata": {},
   "source": [
    "The graph illustrates the price distribution across the number of reviews. In addition, it's also shown the 50th, 75th, and 85th percentile of the distribution. The variable doesn't seem to be relevant. The medium price seems to be the same across all number of reviews. After the 75th percentile it becomes highly volatile probably because there are few observation within each number of observation.\n",
    "I decided that the numbers of reviews greater that 54 will be assign the number 54, this in order to avoid vast tails. "
   ]
  },
  {
   "cell_type": "code",
   "execution_count": null,
   "metadata": {},
   "outputs": [],
   "source": [
    "df.loc[df.number_of_reviews >= 54,['number_of_reviews']] = 54"
   ]
  },
  {
   "cell_type": "markdown",
   "metadata": {},
   "source": [
    "The new boxplot looks like:"
   ]
  },
  {
   "cell_type": "code",
   "execution_count": null,
   "metadata": {},
   "outputs": [],
   "source": [
    "fig, ax = plt.subplots(figsize = (16,10))\n",
    "sns.boxplot(y = 'price', x = 'number_of_reviews' , data = df)\n",
    "\n",
    "plt.title('New Log-Price vs Number of reviews')\n",
    "plt.axvline(x=np.percentile(df.number_of_reviews,50), color = '#FFCECE', label = '50th percentile')\n",
    "plt.axvline(x=np.percentile(df.number_of_reviews,75), color = '#FF9191', label = '75th percentile')\n",
    "plt.axvline(x=np.percentile(df.number_of_reviews,85), color = '#FF3030', label = '85th percentile')\n",
    "plt.legend();"
   ]
  },
  {
   "cell_type": "markdown",
   "metadata": {},
   "source": [
    "### Minimum nights"
   ]
  },
  {
   "cell_type": "code",
   "execution_count": null,
   "metadata": {},
   "outputs": [],
   "source": [
    "fig, ax = plt.subplots(figsize = (16,10))\n",
    "sns.boxplot(y = 'price', x = 'minimum_nights' , data = df)\n",
    "plt.title('Log-Price vs minimum_nights')\n",
    "plt.axvline(x=np.percentile(df.minimum_nights,50), color = '#FFCECE', label = '50th percentile')\n",
    "plt.axvline(x=np.percentile(df.minimum_nights,75), color = '#FF9191', label = '75th percentile')\n",
    "plt.axvline(x=np.percentile(df.minimum_nights,85), color = '#FF3030', label = '85th percentile')\n",
    "plt.legend();\n"
   ]
  },
  {
   "cell_type": "markdown",
   "metadata": {},
   "source": [
    "With the same explanation as the previous literal, *minimum_nights* over 6 will be assigned to 6"
   ]
  },
  {
   "cell_type": "code",
   "execution_count": null,
   "metadata": {},
   "outputs": [],
   "source": [
    "df.loc[df.minimum_nights >= 6,['minimum_nights']] = 6 "
   ]
  },
  {
   "cell_type": "markdown",
   "metadata": {},
   "source": [
    "The new boxplot looks like:"
   ]
  },
  {
   "cell_type": "code",
   "execution_count": null,
   "metadata": {},
   "outputs": [],
   "source": [
    "fig, ax = plt.subplots(figsize = (16,10))\n",
    "sns.boxplot(y = 'price', x = 'minimum_nights' , data = df)\n",
    "plt.title('Log-Price vs minimum_nights')\n",
    "plt.axvline(x=np.percentile(df.minimum_nights,50), color = '#FFCECE', label = '50th percentile')\n",
    "plt.axvline(x=np.percentile(df.minimum_nights,75), color = '#FF9191', label = '75th percentile')\n",
    "plt.axvline(x=np.percentile(df.minimum_nights,85), color = '#FF3030', label = '85th percentile')\n",
    "plt.legend();"
   ]
  },
  {
   "cell_type": "markdown",
   "metadata": {},
   "source": [
    "## Property-related variables"
   ]
  },
  {
   "cell_type": "code",
   "execution_count": null,
   "metadata": {},
   "outputs": [],
   "source": [
    "plt.figure(figsize = (16,12))\n",
    "var = ['bedrooms', 'bathrooms', 'bed_type','property_type']\n",
    "for i, var in enumerate(var):\n",
    "    plt.subplot(2,2,i+1)\n",
    "    sns.boxplot(y = 'price', x = var , data = df, palette = \"Greens\")\n",
    "    plt.ylabel('Log-Price')\n",
    "    plt.title('Price vs ' + var)\n",
    "    if var == 'property_type':\n",
    "        plt.setp(plt.subplot(2,2,i+1).xaxis.get_majorticklabels(), rotation=45)\n",
    "    "
   ]
  },
  {
   "cell_type": "markdown",
   "metadata": {},
   "source": [
    "Keynotes\n",
    "\n",
    "\n",
    "- Linearity relation between bedrooms and price. Furthermore, it may indicate a case of diminish return law\n",
    "- Similar to the number of bedrooms, it may present diminish returns law. \n",
    "- Looking at the boxplot of the real_bed and comparing to the other bed types is it an straightforward conclusion that people tend to choose real bed over sofas and couches. \n",
    "- The graph illustrates that houses tend to be cheaper than apartments. It may be possible that the apartments are located in downtown and the houses in the suburbs. "
   ]
  },
  {
   "cell_type": "markdown",
   "metadata": {},
   "source": [
    "### ¿zero bedrooms in an aparment?"
   ]
  },
  {
   "cell_type": "markdown",
   "metadata": {},
   "source": [
    "Out of curiosity, in the first graph, there are properties without bedrooms, that doesn't make sense. Luckly, looking at the initial data, there are the URL associated to the advertisement. Viewing one of the links, it's clear why an aparment could be zero bedrooms and one bathroom. A LOFT!"
   ]
  },
  {
   "cell_type": "code",
   "execution_count": null,
   "metadata": {},
   "outputs": [],
   "source": [
    "Image(\"loft.png\")"
   ]
  },
  {
   "cell_type": "markdown",
   "metadata": {},
   "source": [
    "## Other variables"
   ]
  },
  {
   "cell_type": "code",
   "execution_count": null,
   "metadata": {
    "scrolled": false
   },
   "outputs": [],
   "source": [
    "plt.figure(figsize = (16,12))\n",
    "reviews_scores = df[['review_scores_location','review_scores_accuracy','review_scores_cleanliness','review_scores_value']]\n",
    "for i, var in enumerate(reviews_scores):\n",
    "    plt.subplot(2,2,i+1)\n",
    "    sns.boxplot(y = 'price', x = var, data = df, palette = 'Blues')\n",
    "    plt.ylabel('Log-Price')\n",
    "    plt.title('Price vs ' + var);\n",
    "    "
   ]
  },
  {
   "cell_type": "markdown",
   "metadata": {},
   "source": [
    "Keynotes\n",
    "\n",
    "- *review_scores_location* and *review_scores_cleanliness* are correlated with the price of renting the property. This result is not surprising, well-located properties and cleanliness take part on the first impression."
   ]
  },
  {
   "cell_type": "markdown",
   "metadata": {},
   "source": [
    "### ¿Having a superhost can cause an increased in the price?"
   ]
  },
  {
   "cell_type": "code",
   "execution_count": null,
   "metadata": {},
   "outputs": [],
   "source": [
    "df['host_is_superhost'] = np.where(df['host_is_superhost'] == 'f',0,1)"
   ]
  },
  {
   "cell_type": "code",
   "execution_count": null,
   "metadata": {},
   "outputs": [],
   "source": [
    "plt.figure(figsize = (14,10))\n",
    "sns.violinplot(x = 'host_is_superhost', y = 'price', data = df, palette = 'Blues'); "
   ]
  },
  {
   "cell_type": "markdown",
   "metadata": {},
   "source": [
    "At first glance, there is no difference in the price of having a superhost or not. But lets partition this analysis within each neighbourhood."
   ]
  },
  {
   "cell_type": "markdown",
   "metadata": {},
   "source": [
    "### ¿Is there evidence of Simpson's Paradox in the superhost variable?"
   ]
  },
  {
   "cell_type": "code",
   "execution_count": null,
   "metadata": {},
   "outputs": [],
   "source": [
    "neighbourhood = df.neighbourhood_cleansed.unique()\n",
    "cvec = dict()\n",
    "for x in neighbourhood:\n",
    "    temp = df[df['neighbourhood_cleansed'] == x]\n",
    "    cvec[x] = temp.corr()['price']['host_is_superhost']\n",
    "\n",
    "corr = list(cvec.values())\n",
    "\n",
    "plt.figure(figsize = (12,10))\n",
    "sns.distplot(corr)\n",
    "plt.title('Superhost grouped by Neighbourhood')\n",
    "plt.xlabel('Correlation')\n",
    "plt.ylabel('');"
   ]
  },
  {
   "cell_type": "markdown",
   "metadata": {},
   "source": [
    "Eventhough the overall distribution of the *host_is_superhost* variable may not show any relation with the price, if the data is partitioned among the neighbourhood and the correlation between *host_is_superhost* and *price* is calculated, it tends to have a positive correlation. "
   ]
  },
  {
   "cell_type": "code",
   "execution_count": null,
   "metadata": {},
   "outputs": [],
   "source": [
    "sort_order = df.query('price <= 500')\\\n",
    "                .groupby('neighbourhood_cleansed')['price']\\\n",
    "                .median()\\\n",
    "                .sort_values(ascending=True)\\\n",
    "                .index\n",
    "\n",
    "fig, ax = plt.subplots(figsize = (16,8))\n",
    "sns.boxplot(y='price', x='neighbourhood_cleansed', data=df.query('price <= 500'), \n",
    "            order=sort_order, palette = 'Greens')\n",
    "ax.set_xticklabels(ax.get_xticklabels(), rotation=45, ha='right')\n",
    "sns.despine();"
   ]
  },
  {
   "cell_type": "markdown",
   "metadata": {},
   "source": [
    "A question arraises, ¿Does the *price*, *neighbourhood* and the *customer scores for the location* have some relation? Lest create a map and investigate!  "
   ]
  },
  {
   "cell_type": "markdown",
   "metadata": {},
   "source": [
    "## Maps "
   ]
  },
  {
   "cell_type": "markdown",
   "metadata": {},
   "source": [
    "#### The following graph shows the relationship between the coordinates and the price"
   ]
  },
  {
   "cell_type": "code",
   "execution_count": null,
   "metadata": {
    "scrolled": false
   },
   "outputs": [],
   "source": [
    "max_value = df.price.max()\n",
    "folium_hmap = folium.Map(width=800,height=500,\n",
    "                         location = [42.366516, -71.057424],\n",
    "                        zoom_start = 13)#,\n",
    "                        ##tiles = \"OpenStreetMap\")\n",
    "hm_wide = HeatMap(list(zip(df['latitude'], df['longitude'], df['price'])),\n",
    "                 min_opacity = 0.1,\n",
    "                 radious = 0.2,\n",
    "                 blur = 6,\n",
    "                 max_zoom = 15,\n",
    "                 max_val = 100)\n",
    "folium.TileLayer('Stamen Terrain').add_to(folium_hmap)\n",
    "folium_hmap.add_child(hm_wide)"
   ]
  },
  {
   "cell_type": "markdown",
   "metadata": {},
   "source": [
    "#### The following graph shows the relationship between the coordinates and the customer score of the property location"
   ]
  },
  {
   "cell_type": "code",
   "execution_count": null,
   "metadata": {
    "scrolled": false
   },
   "outputs": [],
   "source": [
    "max_value = df.price.max()\n",
    "folium_hmap = folium.Map(width=800,height=500,\n",
    "                         location = [42.366516, -71.057424],\n",
    "                        zoom_start = 13)#,\n",
    "                        ##tiles = \"OpenStreetMap\")\n",
    "hm_wide = HeatMap(list(zip(df[df['review_scores_location'].notnull()]['latitude']\n",
    "                           , df[df['review_scores_location'].notnull()]['longitude']\n",
    "                           , df[df['review_scores_location'].notnull()]['review_scores_location'])),\n",
    "                 min_opacity = 0.1,\n",
    "                 radious = 0.2,\n",
    "                 blur = 6,\n",
    "                 max_zoom = 15,\n",
    "                 max_val = 100)\n",
    "folium.TileLayer('Stamen Terrain').add_to(folium_hmap)\n",
    "folium_hmap.add_child(hm_wide)"
   ]
  },
  {
   "cell_type": "markdown",
   "metadata": {},
   "source": [
    "Undoubtedly there is a correlation between the clients perception of the location and the price paid by them. Moving away from dowtown will decrease the price of renting an Airbnb property. Lets quantize this relationship"
   ]
  },
  {
   "cell_type": "markdown",
   "metadata": {},
   "source": [
    "## Correlations"
   ]
  },
  {
   "cell_type": "code",
   "execution_count": null,
   "metadata": {},
   "outputs": [],
   "source": [
    "plt.figure(figsize = (16,12))\n",
    "var_corr = ['price','bathrooms','bedrooms','beds','review_scores_cleanliness',\n",
    "            'review_scores_location','longitude','latitude','accommodates']\n",
    "\n",
    "corr = df[var_corr].corr()\n",
    "\n",
    "mask = np.triu(np.ones_like(corr, dtype=bool));\n",
    "f, ax = plt.subplots(figsize=(12, 10));\n",
    "\n",
    "#cmap = sns.diverging_palette(230, 20, as_cmap=True)\n",
    "\n",
    "# Draw the heatmap with the mask and correct aspect ratio\n",
    "sns.heatmap(corr, mask=mask, cmap='Blues', vmax=.3, center=0,\n",
    "            square=True, linewidths=.5, cbar_kws={\"shrink\": .5}, annot = True, fmt = '.2f');"
   ]
  },
  {
   "cell_type": "markdown",
   "metadata": {},
   "source": [
    "This is a classical correlation matrix, stronger the linear relation, higher the correlation value. Fortunately there are some useful correlation that can be used in a ML algorithm with the price as a target. "
   ]
  },
  {
   "cell_type": "code",
   "execution_count": null,
   "metadata": {},
   "outputs": [],
   "source": [
    "plt.figure(figsize = (16,12))\n",
    "sns.heatmap(df.groupby(['neighbourhood_cleansed', 'review_scores_location'])\\\n",
    "                .mean()['price']\\\n",
    "                .reset_index()\\\n",
    "                .pivot('neighbourhood_cleansed', 'review_scores_location', 'price')\\\n",
    "                .sort_index(ascending=False),\n",
    "            cmap=\"Greens\", fmt='.2f', annot=True, linewidths=0.5)\n",
    "plt.xlabel('Cleanliness calification', fontsize = 15)\n",
    "plt.ylabel('')\n",
    "plt.title('Average Log-price', fontsize = 25);\n",
    "\n",
    "print('Reference table \\nLog-price of $4 is ${} \\nLog-price of $5 is ${} \\nLog-price of $6 is ${}'\\\n",
    "      .format(round(np.exp(4)),round(np.exp(5)),round(np.exp(6))))"
   ]
  },
  {
   "cell_type": "markdown",
   "metadata": {},
   "source": [
    "First lets explain this table. The neighbourhood are in the y-axis and the customer cleanliness satisfaction in the x_axis. Within each neighbourhood-cleanliness score combination is calculate the average price. Then it's plotted and colored to have some sort of perception of the price. \n",
    "Visualy, there is not a clear pattern between those variables, an ML model can specify this statment."
   ]
  },
  {
   "cell_type": "markdown",
   "metadata": {},
   "source": [
    "# Conclusions"
   ]
  },
  {
   "cell_type": "markdown",
   "metadata": {},
   "source": [
    "- Some proper correlations were found between the target variable (price) and the independent variables (In the correlation section are displayed the variables).\n",
    "- As expected, the properties near downtown have higher prices compared to the suburban. \n",
    "- Especial caution is needed due to Sympson's paradox across the variables.\n",
    "- Customer perception is an influential set of features that derives the price"
   ]
  },
  {
   "cell_type": "markdown",
   "metadata": {},
   "source": [
    "## Next steps"
   ]
  },
  {
   "cell_type": "markdown",
   "metadata": {},
   "source": [
    "- Construct and calibrate an ML algorithm with the analysed variables.\n",
    "- Deeper exploration of the excluding variables. NLP models can be useful"
   ]
  }
 ],
 "metadata": {
  "kernelspec": {
   "display_name": "Python 3",
   "language": "python",
   "name": "python3"
  },
  "language_info": {
   "codemirror_mode": {
    "name": "ipython",
    "version": 3
   },
   "file_extension": ".py",
   "mimetype": "text/x-python",
   "name": "python",
   "nbconvert_exporter": "python",
   "pygments_lexer": "ipython3",
   "version": "3.8.3"
  }
 },
 "nbformat": 4,
 "nbformat_minor": 4
}
